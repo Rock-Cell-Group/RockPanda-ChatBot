{
 "cells": [
  {
   "cell_type": "code",
   "execution_count": 1,
   "metadata": {},
   "outputs": [
    {
     "name": "stderr",
     "output_type": "stream",
     "text": [
      "c:\\Users\\yxwu\\AppData\\Local\\Programs\\Python\\Python310\\lib\\site-packages\\pinecone\\index.py:4: TqdmExperimentalWarning: Using `tqdm.autonotebook.tqdm` in notebook mode. Use `tqdm.tqdm` instead to force console mode (e.g. in jupyter console)\n",
      "  from tqdm.autonotebook import tqdm\n"
     ]
    }
   ],
   "source": [
    "from app.langchain_module.KnowledegeEmbedding_module import KnowledegeEmbedding\n"
   ]
  },
  {
   "cell_type": "code",
   "execution_count": 2,
   "metadata": {},
   "outputs": [],
   "source": [
    "path = 'UserManual'\n",
    "#可能附件先不要，效果不太對\n"
   ]
  },
  {
   "cell_type": "code",
   "execution_count": 3,
   "metadata": {},
   "outputs": [
    {
     "name": "stdout",
     "output_type": "stream",
     "text": [
      "pineconeInstance information {'dimension': 1536,\n",
      " 'index_fullness': 0.0,\n",
      " 'namespaces': {},\n",
      " 'total_vector_count': 0}\n"
     ]
    },
    {
     "name": "stderr",
     "output_type": "stream",
     "text": [
      "100%|██████████| 1/1 [00:05<00:00,  5.58s/it]"
     ]
    },
    {
     "name": "stdout",
     "output_type": "stream",
     "text": [
      "docs_split type is:  <class 'list'>\n"
     ]
    },
    {
     "name": "stderr",
     "output_type": "stream",
     "text": [
      "\n"
     ]
    }
   ],
   "source": [
    "KnowledegeEmbed = KnowledegeEmbedding()\n",
    "docs_split = KnowledegeEmbed.txt_preprocessing(path)\n",
    "print(\"docs_split type is: \", type(docs_split))\n"
   ]
  },
  {
   "cell_type": "code",
   "execution_count": 4,
   "metadata": {},
   "outputs": [
    {
     "name": "stdout",
     "output_type": "stream",
     "text": [
      "<class 'str'> 1. Introduction\n",
      "\n",
      "岩壁熊(RockPanda)，代表延畢多年的熊貓，具有大量考試知識與人脈。由三校岩壁細胞智能創意組開發，主要提供個人化的學術協助和問答社群平台。\n",
      "\n",
      "整體服務為一個LINE智能聊天機器人，搭載了強大的後台資料庫和大型自然語言處理模型。岩壁熊的主要功能是為學生提供考試準備的支援。\n",
      "\n",
      "具體來說，我們的系統主要功能如下：\n",
      "\n",
      "\t考題查詢：學生可以查找並練習以前存儲的考題，也可以使用自然語言處理生成相似的練習題目。\n",
      "\n",
      "\t考題共享：學生可以輕鬆地將自己的考題透過LINE上傳至我們的平台，讓其他學生也能夠受益。\n",
      "\n",
      "\t問答社群：我們的系統還包括一個問答社區，允許學生匿名提問問題，並獲得匿名回答。這個互動平台有助於解決學習中的疑問。\n",
      "\n",
      "而這份使用者手冊旨在幫助學生和其他使用者更好地了解和使用我們的聊天機器人，以實現更好的學習體驗。這個文件的預期演進是在系統更新和功能擴展時進行更新，以確保它繼續為使用者提供有關我們產品的最新信息。\n",
      "\n",
      "我們非常重視安全性和隱私問題，並已實施相應的安全措施，以確保用戶的數據和隱私得到保護。詳細的安全和隱私信息可以在使用者手冊中找到。.\n",
      "\n",
      "1.1\tOverview\n",
      "\n",
      "我們的岩壁熊透過LINE聊天機器人提供簡單的圖形使用者介面，以確保易用性。系統架構則類似於考古題管理系統的運作方式，同時整合了人工智慧，以生成相近於考古題的題目。除此之外還建置了一個問答平台。簡單來說，這個系統可以分為兩個主要部分：\n",
      "\n",
      "\t考題複習：這部分就像一個熱心助人的大學長／大學姊，他手邊持有大量的考題。當學弟妹需要考題時，他們可以快速提供，還能舉例類似的題目讓學弟妹練習。\n",
      "\n",
      "\t學生社群：這是一個的問答平台。在這裡，學生可以匿名貼上問題，也可以匿名解答別人疑惑，透過學習彼此的經驗，讓學生能夠更方便的解決疑惑與難題。\n",
      "\n",
      "整個系統是基於Web的後端框架結合LINE聊天機器人的前端使用環境，就像與一個熱心助人的大學長／大學姊聊天一樣。學生可以透過簡單的LINE界面來使用我們的系統，查找考題，參與社群，以及獲得學習支援。\n",
      "\n",
      "2. Getting Started\n",
      "\n",
      "加入岩壁熊官方帳號後，在LINE訊息框中輸入訊息即可與岩壁熊聊天，岩壁熊會指引你各種功能該如何操作。\n",
      "\n",
      "2.1\tCautions & Warnings\n",
      "<class 'str'> 2. Getting Started\n",
      "\n",
      "加入岩壁熊官方帳號後，在LINE訊息框中輸入訊息即可與岩壁熊聊天，岩壁熊會指引你各種功能該如何操作。\n",
      "\n",
      "2.1\tCautions & Warnings\n",
      "\n",
      "1. 題目來源：我們的題目來自於各系學會管理的考古題雲端，以及用戶上傳的考古題。然而，我們無法對考題的內容真實性進行保證。因此，在使用這些考題時，請自行判斷其適用性和可信度。\n",
      "\n",
      "2. 大語言模型生成的考題與解答：我們的系統使用大語言模型生成額外的考題和解答，但這些內容並未經過專業領域人員的檢驗。使用這些生成的考題和解答時，請謹慎參考，特別是在考試或重要學習情境下。\n",
      "\n",
      "3. 問答平台中的解答：在我們的問答平台中，來自其他用戶的解答未經過審查。因此，使用時請自行斟酌參考，並謹慎選擇是否採納這些解答，特別是在需要專業意見或關鍵問題的情況下。\n",
      "\n",
      "我們強烈建議用戶在使用我們的系統時保持謹慎，尤其是在重要的學習和測試過程中。確保您自己對所使用的材料進行適當的評估，以確保其適合您的需求。\n",
      "\n",
      "2.2\tSystem Organization & Navigation\n",
      "\n",
      "聊天訊息欄位：使用者可以透過聊天訊息欄位來與岩壁熊進行對話，詢問使用方式，或獲得協助。\n",
      "\n",
      "圖文選單：系統下方的圖文選單包含四種主要功能，每個功能都有自己的子選單。以下是這四種功能：\n",
      "\n",
      "\t助教！我想複習：這個功能允許使用者查找和生成題目。使用者可以透過這個功能尋找特定的考古題或練習題目。\n",
      "\n",
      "\t貢獻知識：這個功能讓使用者將自己擁有的題目上傳至系統，以分享給其他使用者。這促進了考古題的共享和合作。\n",
      "\n",
      "\t這題有人會嗎？：使用者可以通過此功能在問答平台發問，也可以提供問題解答，以解決使用者在學習過程中的困難，也可以幫助其他用戶解決學習過程的困難。\n",
      "\n",
      "\t看我發現了什麼：這個按鈕會提供一些測試版功能讓大家玩玩。\n",
      "\n",
      "3. Using the System\n",
      "\n",
      "The following sub-sections provide detailed, step-by-step instructions on how to use the various functions or features of the PANDA.\n",
      "<class 'str'> \t若要查詢特定科目、教師或考試的考古題，您可以點擊圖文選單中的\"助教！我想複習\"按鈕，進一步使用生成式人工智能（AI）以獲取相似的題目。\n",
      "\n",
      "\t如果您希望將自己手頭上的考題上傳至系統資料庫，請點擊圖文選單中的\"貢獻知識\"按鈕，並按照提示的步驟上傳您的考題至系統，以供所有使用者查詢。\n",
      "\n",
      "\t若您遇到特別困難的問題，或對AI生成的解答不滿意，請點擊圖文選單中的\"這題有人會嗎？\"按鈕，將問題提交至問答平台，同時您也可以參與解答其他用戶的難題。\n",
      "\n",
      "\t若您需要特殊功能，請點擊圖文選單中的\"看我發現了甚麼\"按鈕。\n",
      "\n",
      "\t若其他用戶回應了您的問題，系統將會推播給您。\n",
      "\n",
      "3.1\t助教！我想複習\n",
      "\n",
      "1. 點擊此按鈕後，請在對話框下方選擇所需的課程（資料庫中包含的所有課程）。\n",
      "\n",
      "2. 選擇您所需課程的授課教師。\n",
      "\n",
      "3. 請選擇考試類型為：期中考 / 期末考。\n",
      "\n",
      "4. 基於您的選擇，熊貓將從資料庫中隨機選擇三道考題考你。\n",
      "\n",
      "5. 您可以選擇執行以下操作，點擊生成類似考題或者問熊貓此題解釋。\n",
      "\n",
      "3.1.1\t生成類似考題\n",
      "\n",
      "\t點擊生成類似考題：熊貓會依據該題目再想出一題相似的題目給你練習，想要複製熊貓出的題目可以點擊我想複製內文的按鈕。\n",
      "\n",
      "3.1.2\t請問此題詳解\n",
      "\n",
      "\t點擊問熊貓此題解釋：熊貓會根據自己的知識來跟你解釋這一題該如何答題\n",
      "\n",
      "3.2\t貢獻知識\n",
      "\n",
      "1. 點擊此按鈕後，請依據規定格式回覆待上傳文件的相關資料(課程名稱、授課老師、考試類型)。\n",
      "\n",
      "2. 相關資料填寫完成並送出後請跟隨指示將文件分享給岩壁熊\n",
      "\n",
      "3. 岩壁熊檢查格式無誤後便會通知您上傳至後台完成，請等待審核完畢後進入資料庫供其他用戶查詢。\n",
      "\n",
      "3.2.1\t查詢先前上傳結果\n",
      "\n",
      "點擊後可查到用戶先前上傳的文件以及相關資料目前的審核狀態，是否已經加入可供其他用戶使用的考古資料庫。\n",
      "\n",
      "3.3\t這題有人會嗎？\n",
      "\n",
      "點擊此功能後，會出現下列三種按鈕快速發問、我是學渣、我是學霸。\n",
      "\n",
      "\t發問問題請點擊快速發問\n",
      "\n",
      "\t查詢先前發問的問題請點擊我是學渣\n",
      "\n",
      "\t查看目前平台上其他學渣發問的問題請點擊我是學霸\n",
      "\n",
      "3.3.1\t快速發問\n",
      "\n",
      "點擊快速發問後請依據格式填入問題所屬的領域及問題，送出後等待熊貓回覆已提問完成。\n",
      "\n",
      "3.3.2\t我是學渣\n",
      "\n",
      "點擊我是學渣即可查看目前自己所有提問過的問題，若認為問題已獲得解答可以點擊刪除提問。\n",
      "<class 'str'> 點擊快速發問後請依據格式填入問題所屬的領域及問題，送出後等待熊貓回覆已提問完成。\n",
      "\n",
      "3.3.2\t我是學渣\n",
      "\n",
      "點擊我是學渣即可查看目前自己所有提問過的問題，若認為問題已獲得解答可以點擊刪除提問。\n",
      "\n",
      "3.3.3\t我是學霸\n",
      "\n",
      "點擊我是學霸即可查看隨機10筆目前平台上的用戶問題。\n",
      "\n",
      "您可以根據自己想回答的問題選擇我來回答，根據範例格式填寫完此問題的回答，熊貓將會幫你轉交答案給提問者。\n",
      "\n",
      "3.4\t看我發現了什麼\n",
      "\n",
      "目前還沒有什麼有趣的功能喔\n"
     ]
    }
   ],
   "source": [
    "for split_doc in docs_split:\n",
    "    print(type(split_doc.page_content), split_doc.page_content)\n"
   ]
  },
  {
   "cell_type": "code",
   "execution_count": 5,
   "metadata": {},
   "outputs": [
    {
     "name": "stdout",
     "output_type": "stream",
     "text": [
      "create_metadata_withembeddings 執行時間：2.0972535610198975秒\n",
      "data_with_embedded_vector type is:  <class 'list'>\n"
     ]
    }
   ],
   "source": [
    "metadata_pairs = {\"namespace\":'manual', \"upsert_date\":'20231007'}\n",
    "\n",
    "data_with_embedded_vector = KnowledegeEmbed.create_metadata_withembeddings(docs_split, metadata_pairs)\n",
    "print(\"data_with_embedded_vector type is: \", type(data_with_embedded_vector))\n"
   ]
  },
  {
   "cell_type": "code",
   "execution_count": 6,
   "metadata": {},
   "outputs": [
    {
     "name": "stdout",
     "output_type": "stream",
     "text": [
      "upsert_embedding_to_db 執行時間：0.5636770725250244秒\n"
     ]
    }
   ],
   "source": [
    "KnowledegeEmbed.upsert_embedding_to_db(data_with_embedded_vector)\n"
   ]
  }
 ],
 "metadata": {
  "kernelspec": {
   "display_name": "Python 3",
   "language": "python",
   "name": "python3"
  },
  "language_info": {
   "codemirror_mode": {
    "name": "ipython",
    "version": 3
   },
   "file_extension": ".py",
   "mimetype": "text/x-python",
   "name": "python",
   "nbconvert_exporter": "python",
   "pygments_lexer": "ipython3",
   "version": "3.10.9"
  }
 },
 "nbformat": 4,
 "nbformat_minor": 2
}
