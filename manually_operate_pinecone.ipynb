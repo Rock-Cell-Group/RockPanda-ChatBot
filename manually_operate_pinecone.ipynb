{
 "cells": [
  {
   "cell_type": "code",
   "execution_count": 1,
   "metadata": {},
   "outputs": [
    {
     "name": "stderr",
     "output_type": "stream",
     "text": [
      "c:\\Users\\yxwu\\AppData\\Local\\Programs\\Python\\Python310\\lib\\site-packages\\pinecone\\index.py:4: TqdmExperimentalWarning: Using `tqdm.autonotebook.tqdm` in notebook mode. Use `tqdm.tqdm` instead to force console mode (e.g. in jupyter console)\n",
      "  from tqdm.autonotebook import tqdm\n"
     ]
    }
   ],
   "source": [
    "from langchain_modules.KnowledegeEmbedding_module import KnowledegeEmbedding\n"
   ]
  },
  {
   "cell_type": "code",
   "execution_count": 2,
   "metadata": {},
   "outputs": [],
   "source": [
    "path = 'data/Raw_Data/TXTs'\n"
   ]
  },
  {
   "cell_type": "code",
   "execution_count": 3,
   "metadata": {},
   "outputs": [
    {
     "name": "stdout",
     "output_type": "stream",
     "text": [
      "pineconeInstance information {'dimension': 1536,\n",
      " 'index_fullness': 0.00014,\n",
      " 'namespaces': {'': {'vector_count': 14}},\n",
      " 'total_vector_count': 14}\n"
     ]
    },
    {
     "name": "stderr",
     "output_type": "stream",
     "text": [
      "100%|██████████| 1/1 [00:06<00:00,  6.14s/it]"
     ]
    },
    {
     "name": "stdout",
     "output_type": "stream",
     "text": [
      "docs_split type is:  <class 'list'>\n"
     ]
    },
    {
     "name": "stderr",
     "output_type": "stream",
     "text": [
      "\n"
     ]
    }
   ],
   "source": [
    "KnowledegeEmbed = KnowledegeEmbedding()\n",
    "docs_split = KnowledegeEmbed.txt_preprocessing(path)\n",
    "print(\"docs_split type is: \", type(docs_split))\n"
   ]
  },
  {
   "cell_type": "code",
   "execution_count": 4,
   "metadata": {},
   "outputs": [
    {
     "name": "stdout",
     "output_type": "stream",
     "text": [
      "<class 'str'>\n"
     ]
    }
   ],
   "source": [
    "for split_doc in docs_split:\n",
    "    print(type(split_doc.page_content))\n"
   ]
  },
  {
   "cell_type": "code",
   "execution_count": 5,
   "metadata": {},
   "outputs": [
    {
     "name": "stdout",
     "output_type": "stream",
     "text": [
      "create_metadata_withembeddings 執行時間：2.5204598903656006秒\n",
      "data_with_embedded_vector type is:  <class 'list'>\n"
     ]
    }
   ],
   "source": [
    "metadata_pairs = {\"namespace\":'userinformation', \"upsert_date\":'20231007'}\n",
    "\n",
    "data_with_embedded_vector = KnowledegeEmbed.create_metadata_withembeddings(docs_split, metadata_pairs)\n",
    "print(\"data_with_embedded_vector type is: \", type(data_with_embedded_vector))\n"
   ]
  },
  {
   "cell_type": "code",
   "execution_count": 6,
   "metadata": {},
   "outputs": [
    {
     "name": "stdout",
     "output_type": "stream",
     "text": [
      "upsert_embedding_to_db 執行時間：3.643211841583252秒\n"
     ]
    }
   ],
   "source": [
    "KnowledegeEmbed.upsert_embedding_to_db(data_with_embedded_vector)\n"
   ]
  }
 ],
 "metadata": {
  "kernelspec": {
   "display_name": "Python 3",
   "language": "python",
   "name": "python3"
  },
  "language_info": {
   "codemirror_mode": {
    "name": "ipython",
    "version": 3
   },
   "file_extension": ".py",
   "mimetype": "text/x-python",
   "name": "python",
   "nbconvert_exporter": "python",
   "pygments_lexer": "ipython3",
   "version": "3.10.9"
  }
 },
 "nbformat": 4,
 "nbformat_minor": 2
}
